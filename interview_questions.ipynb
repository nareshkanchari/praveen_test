{
 "cells": [
  {
   "cell_type": "code",
   "execution_count": 18,
   "id": "exciting-champion",
   "metadata": {},
   "outputs": [
    {
     "name": "stdout",
     "output_type": "stream",
     "text": [
      "(1, 'John (test)', '878546456', 'john@gmail.com', datetime.datetime(2020, 10, 4, 12, 48, 34, 263538), None, '2014-06-23_15.52.54.jpg')\n",
      "((2, 'peter', '88465456454', 'peter@gmail.com', datetime.datetime(2020, 10, 4, 13, 47, 7, 614564), None, None),)\n"
     ]
    }
   ],
   "source": [
    "# # to see description of a table:\n",
    "# mysql>desc table_name;\n",
    "\n",
    "# # inserting data into the table:\n",
    "# mysql>insert into table_name values(1,'john','hyd',100)\n",
    "\n",
    "# connecting to data_base using python\n",
    "\n",
    "# import pymysql\n",
    "# connection = pymysql.connect(host='localhost',user='root',password='root',db='crmdb')\n",
    "# cursor = connection.cursor()\n",
    "# cursor.execute('select * from accounts_customer;')\n",
    "# d = cursor.fetchall()\n",
    "# print(d)\n",
    "\n",
    "\n",
    "import pymysql\n",
    "connection=pymysql.connect(host='localhost',user='root',password='root',db='crmdb')\n",
    "cursor = connection.cursor()\n",
    "cursor.execute('select * from accounts_customer')\n",
    "data = cursor.fetchall()\n",
    "for i in data:\n",
    "    print(i)\n",
    "    break\n",
    "    \n",
    "# to get all the details of employee,'John'\n",
    "cursor.execute('select * from accounts_customer where name = \"peter\"')\n",
    "print(cursor.fetchall())\n",
    "\n",
    "\n"
   ]
  },
  {
   "cell_type": "code",
   "execution_count": null,
   "id": "criminal-rolling",
   "metadata": {},
   "outputs": [],
   "source": [
    "# Write a Python program to check whether a string is a Palindrome or not \n",
    "word = \"pop\"\n",
    "\n",
    "if word == word[::-1]:\n",
    "    print(f\"{word} is palindorme\")\n",
    "else:\n",
    "    print(f\"{word} is not palindrome\")\n",
    "    \n",
    "if word == ''.join(reversed(word)):\n",
    "    print(f\"{word} is palindorme\")\n",
    "else:\n",
    "    print(f\"{word} is not palindrome\")\n",
    "\n",
    "k=1000_00\n",
    "print(f\"{k:,}\")"
   ]
  },
  {
   "cell_type": "code",
   "execution_count": null,
   "id": "oriented-heater",
   "metadata": {},
   "outputs": [],
   "source": []
  },
  {
   "cell_type": "code",
   "execution_count": 6,
   "id": "union-expansion",
   "metadata": {},
   "outputs": [
    {
     "name": "stdout",
     "output_type": "stream",
     "text": [
      "0\n",
      "1\n",
      "2\n",
      "3\n",
      "5\n",
      "7\n"
     ]
    }
   ],
   "source": [
    "# 1.Write a Python Program to print Prime Numbers between 2 numbers\n",
    "for num in range(10):\n",
    "    if all(num%i != 0 for i in range(2, num)):\n",
    "        print(num)"
   ]
  },
  {
   "cell_type": "code",
   "execution_count": 3,
   "id": "western-villa",
   "metadata": {},
   "outputs": [
    {
     "name": "stdout",
     "output_type": "stream",
     "text": [
      "0\n",
      "1\n",
      "2\n",
      "3\n",
      "5\n",
      "7\n"
     ]
    }
   ],
   "source": [
    "for num in range(10):\n",
    "    if all(num%i != 0 for i in range(2,num)):\n",
    "        print(num)"
   ]
  },
  {
   "cell_type": "code",
   "execution_count": 1,
   "id": "apparent-wichita",
   "metadata": {},
   "outputs": [
    {
     "name": "stdout",
     "output_type": "stream",
     "text": [
      "1 7 2\n"
     ]
    },
    {
     "data": {
      "text/plain": [
       "'7 is  prime'"
      ]
     },
     "execution_count": 1,
     "metadata": {},
     "output_type": "execute_result"
    }
   ],
   "source": [
    "def check_prime(num):\n",
    "    try:\n",
    "        if num == 1:\n",
    "            return 1\n",
    "        for i in range(2, num):\n",
    "            print(num%i,num, i)\n",
    "            if num%i != 0:\n",
    "                return f\"{num} is  prime\"\n",
    "            return f\"{num} is not prime\"\n",
    "    except Exception as e:\n",
    "        return \"something went wrong please try again\"\n",
    "\n",
    "check_prime(7)\n",
    "    \n",
    "        \n",
    "    \n",
    "    \n",
    "    "
   ]
  },
  {
   "cell_type": "code",
   "execution_count": 38,
   "id": "israeli-occupation",
   "metadata": {},
   "outputs": [
    {
     "data": {
      "text/plain": [
       "True"
      ]
     },
     "execution_count": 38,
     "metadata": {},
     "output_type": "execute_result"
    }
   ],
   "source": [
    "# compare two strings\n",
    "a=\"hi\"\n",
    "b=\"hi\"\n",
    "a == b"
   ]
  },
  {
   "cell_type": "code",
   "execution_count": 7,
   "id": "respective-advocacy",
   "metadata": {},
   "outputs": [
    {
     "name": "stdout",
     "output_type": "stream",
     "text": [
      "0\n",
      "1\n",
      "2\n",
      "3\n",
      "5\n",
      "7\n",
      "11\n",
      "13\n",
      "17\n",
      "19\n",
      "23\n",
      "29\n",
      "31\n",
      "37\n",
      "41\n",
      "43\n",
      "47\n",
      "53\n",
      "59\n",
      "61\n",
      "67\n",
      "71\n",
      "73\n",
      "79\n",
      "83\n",
      "89\n",
      "97\n",
      "100 is not prime\n"
     ]
    }
   ],
   "source": [
    "for num in range(100):\n",
    "    if all(num%i !=0 for i in range(2,num)):\n",
    "        print(num)\n",
    "\n",
    "def prime(num):\n",
    "    for i in range(2, num):\n",
    "        if num%i != 0:\n",
    "            return f\"{num} is prime\"\n",
    "        return f\"{num} is not prime\"\n",
    "print(prime(100))"
   ]
  },
  {
   "cell_type": "code",
   "execution_count": 9,
   "id": "adaptive-destiny",
   "metadata": {},
   "outputs": [
    {
     "name": "stdout",
     "output_type": "stream",
     "text": [
      "[1, 1, 2, 2, 3, 4, 13, 32, 131]\n"
     ]
    }
   ],
   "source": [
    "#  Write a Sort function to sort the elements in a list\n",
    "def sort_list(values):\n",
    "    print(sorted(values))\n",
    "sort_list([1, 2, 3, 13, 4, 1, 2, 131, 32])\n",
    "    "
   ]
  },
  {
   "cell_type": "code",
   "execution_count": 1,
   "id": "national-preference",
   "metadata": {},
   "outputs": [
    {
     "name": "stdout",
     "output_type": "stream",
     "text": [
      "1\n",
      "1\n",
      "1\n"
     ]
    },
    {
     "ename": "ValueError",
     "evalue": "list.remove(x): x not in list",
     "output_type": "error",
     "traceback": [
      "\u001b[1;31m---------------------------------------------------------------------------\u001b[0m",
      "\u001b[1;31mValueError\u001b[0m                                Traceback (most recent call last)",
      "\u001b[1;32m<ipython-input-1-8902775101c1>\u001b[0m in \u001b[0;36m<module>\u001b[1;34m\u001b[0m\n\u001b[0;32m     13\u001b[0m \u001b[1;33m\u001b[0m\u001b[0m\n\u001b[0;32m     14\u001b[0m \u001b[0mvalues\u001b[0m \u001b[1;33m=\u001b[0m \u001b[1;33m[\u001b[0m\u001b[1;36m1\u001b[0m\u001b[1;33m,\u001b[0m \u001b[1;36m2\u001b[0m\u001b[1;33m,\u001b[0m \u001b[1;36m3\u001b[0m\u001b[1;33m,\u001b[0m \u001b[1;36m13\u001b[0m\u001b[1;33m,\u001b[0m \u001b[1;36m4\u001b[0m\u001b[1;33m,\u001b[0m \u001b[1;36m1\u001b[0m\u001b[1;33m,\u001b[0m \u001b[1;36m2\u001b[0m\u001b[1;33m,\u001b[0m \u001b[1;36m131\u001b[0m\u001b[1;33m,\u001b[0m \u001b[1;36m32\u001b[0m\u001b[1;33m]\u001b[0m\u001b[1;33m\u001b[0m\u001b[1;33m\u001b[0m\u001b[0m\n\u001b[1;32m---> 15\u001b[1;33m \u001b[0msort_list\u001b[0m\u001b[1;33m(\u001b[0m\u001b[0mvalues\u001b[0m\u001b[1;33m)\u001b[0m\u001b[1;33m\u001b[0m\u001b[1;33m\u001b[0m\u001b[0m\n\u001b[0m\u001b[0;32m     16\u001b[0m \u001b[0mprint\u001b[0m\u001b[1;33m(\u001b[0m\u001b[0mnew_list\u001b[0m\u001b[1;33m)\u001b[0m\u001b[1;33m\u001b[0m\u001b[1;33m\u001b[0m\u001b[0m\n",
      "\u001b[1;32m<ipython-input-1-8902775101c1>\u001b[0m in \u001b[0;36msort_list\u001b[1;34m(values)\u001b[0m\n\u001b[0;32m      9\u001b[0m                 \u001b[0mmininmum\u001b[0m \u001b[1;33m=\u001b[0m \u001b[0mi\u001b[0m\u001b[1;33m\u001b[0m\u001b[1;33m\u001b[0m\u001b[0m\n\u001b[0;32m     10\u001b[0m             \u001b[0mnew_list\u001b[0m\u001b[1;33m.\u001b[0m\u001b[0mappend\u001b[0m\u001b[1;33m(\u001b[0m\u001b[0mminimum\u001b[0m\u001b[1;33m)\u001b[0m\u001b[1;33m\u001b[0m\u001b[1;33m\u001b[0m\u001b[0m\n\u001b[1;32m---> 11\u001b[1;33m             \u001b[0mvalues\u001b[0m\u001b[1;33m.\u001b[0m\u001b[0mremove\u001b[0m\u001b[1;33m(\u001b[0m\u001b[0mminimum\u001b[0m\u001b[1;33m)\u001b[0m\u001b[1;33m\u001b[0m\u001b[1;33m\u001b[0m\u001b[0m\n\u001b[0m\u001b[0;32m     12\u001b[0m \u001b[1;33m\u001b[0m\u001b[0m\n\u001b[0;32m     13\u001b[0m \u001b[1;33m\u001b[0m\u001b[0m\n",
      "\u001b[1;31mValueError\u001b[0m: list.remove(x): x not in list"
     ]
    }
   ],
   "source": [
    "# Write a sorting function without using the list.sort function\n",
    "new_list = []\n",
    "def sort_list(values):\n",
    "    while values:\n",
    "        minimum = values[0]\n",
    "        for i in values:\n",
    "            print(minimum)\n",
    "            if i > minimum:\n",
    "                mininmum = i\n",
    "            new_list.append(minimum)\n",
    "            values.remove(minimum)\n",
    "\n",
    "\n",
    "values = [1, 2, 3, 13, 4, 1, 2, 131, 32]\n",
    "sort_list(values)\n",
    "print(new_list)"
   ]
  },
  {
   "cell_type": "code",
   "execution_count": 2,
   "id": "funky-montana",
   "metadata": {},
   "outputs": [
    {
     "data": {
      "text/plain": [
       "[1, 1, 2, 2, 3, 4, 13, 32, 131]"
      ]
     },
     "execution_count": 2,
     "metadata": {},
     "output_type": "execute_result"
    }
   ],
   "source": [
    "data_list = [1, 2, 3, 13, 4, 1, 2, 131, 32]\n",
    "new_list = []\n",
    "\n",
    "while data_list:\n",
    "    minimum = data_list[0]\n",
    "    for i in data_list:\n",
    "        if i < minimum:\n",
    "            minimum = i\n",
    "    new_list.append(minimum)\n",
    "    data_list.remove(minimum)\n",
    "new_list\n",
    "    "
   ]
  },
  {
   "cell_type": "code",
   "execution_count": 6,
   "id": "typical-falls",
   "metadata": {},
   "outputs": [
    {
     "name": "stdout",
     "output_type": "stream",
     "text": [
      "0\n",
      "1\n",
      "1\n",
      "2\n",
      "3\n",
      "5\n",
      "8\n",
      "13\n",
      "21\n",
      "34\n"
     ]
    },
    {
     "ename": "NameError",
     "evalue": "name 'p' is not defined",
     "output_type": "error",
     "traceback": [
      "\u001b[1;31m---------------------------------------------------------------------------\u001b[0m",
      "\u001b[1;31mNameError\u001b[0m                                 Traceback (most recent call last)",
      "\u001b[1;32m<ipython-input-6-e7bc52f8fbd2>\u001b[0m in \u001b[0;36m<module>\u001b[1;34m\u001b[0m\n\u001b[0;32m     12\u001b[0m         \u001b[0ma\u001b[0m\u001b[1;33m,\u001b[0m \u001b[0mb\u001b[0m \u001b[1;33m=\u001b[0m \u001b[0ma\u001b[0m\u001b[1;33m+\u001b[0m\u001b[0mb\u001b[0m\u001b[1;33m,\u001b[0m \u001b[0ma\u001b[0m\u001b[1;33m\u001b[0m\u001b[1;33m\u001b[0m\u001b[0m\n\u001b[0;32m     13\u001b[0m \u001b[1;33m\u001b[0m\u001b[0m\n\u001b[1;32m---> 14\u001b[1;33m \u001b[0mp\u001b[0m\u001b[1;33m\u001b[0m\u001b[1;33m\u001b[0m\u001b[0m\n\u001b[0m\u001b[0;32m     15\u001b[0m \u001b[1;32mif\u001b[0m \u001b[0m__name__\u001b[0m \u001b[1;33m==\u001b[0m \u001b[1;34m\"__main__\"\u001b[0m\u001b[1;33m:\u001b[0m\u001b[1;33m\u001b[0m\u001b[1;33m\u001b[0m\u001b[0m\n\u001b[0;32m     16\u001b[0m     \u001b[1;32mfor\u001b[0m \u001b[0mi\u001b[0m \u001b[1;32min\u001b[0m \u001b[0mfib\u001b[0m\u001b[1;33m(\u001b[0m\u001b[1;36m12\u001b[0m\u001b[1;33m)\u001b[0m\u001b[1;33m:\u001b[0m\u001b[1;33m\u001b[0m\u001b[1;33m\u001b[0m\u001b[0m\n",
      "\u001b[1;31mNameError\u001b[0m: name 'p' is not defined"
     ]
    }
   ],
   "source": [
    "# Write a Python program to print Fibonacci Series\n",
    "a, b = 0, 1\n",
    "for i in range(10):\n",
    "    print(a)\n",
    "    a,b = a+b,a\n",
    "\n",
    "\n",
    "def fib(num):\n",
    "    a, b = 0, 1\n",
    "    for i in range(num):\n",
    "        yield a\n",
    "        a, b = a+b, a\n",
    "\n",
    "p\n",
    "if __name__ == \"__main__\":\n",
    "    for i in fib(12):\n",
    "        print(i)"
   ]
  },
  {
   "cell_type": "code",
   "execution_count": 73,
   "id": "intellectual-windows",
   "metadata": {},
   "outputs": [
    {
     "name": "stdout",
     "output_type": "stream",
     "text": [
      "[32, 131, 2, 1, 4, 13, 3, 2, 1]\n"
     ]
    }
   ],
   "source": [
    "# Write a Python program to print a list in reverse\n",
    "values = [1, 2, 3, 13, 4, 1, 2, 131, 32]\n",
    "print(values[::-1])"
   ]
  },
  {
   "cell_type": "code",
   "execution_count": null,
   "id": "elect-childhood",
   "metadata": {},
   "outputs": [],
   "source": []
  },
  {
   "cell_type": "code",
   "execution_count": 87,
   "id": "level-algorithm",
   "metadata": {},
   "outputs": [
    {
     "name": "stdout",
     "output_type": "stream",
     "text": [
      "pop is palindorme\n",
      "pop is palindorme\n",
      "100,000\n"
     ]
    }
   ],
   "source": [
    "# Write a Python program to check whether a string is a Palindrome or not \n",
    "word = \"pop\"\n",
    "\n",
    "if word == word[::-1]:\n",
    "    print(f\"{word} is palindorme\")\n",
    "else:\n",
    "    print(f\"{word} is not palindrome\")\n",
    "    \n",
    "if word == ''.join(reversed(word)):\n",
    "    print(f\"{word} is palindorme\")\n",
    "else:\n",
    "    print(f\"{word} is not palindrome\")\n",
    "\n",
    "k=1000_00\n",
    "print(f\"{k:,}\")\n"
   ]
  },
  {
   "cell_type": "code",
   "execution_count": 6,
   "id": "forty-ballet",
   "metadata": {},
   "outputs": [
    {
     "name": "stdout",
     "output_type": "stream",
     "text": [
      "{1, 2, 4}\n"
     ]
    }
   ],
   "source": [
    "#  Write a Python program to print set of duplicates in a list\n",
    "lst=[1,1,2,3,4,2,6,5,2,4,4]\n",
    "print(set([i for i in lst if lst.count(i)>1]))"
   ]
  },
  {
   "cell_type": "code",
   "execution_count": 10,
   "id": "prepared-jewelry",
   "metadata": {},
   "outputs": [
    {
     "name": "stdout",
     "output_type": "stream",
     "text": [
      "12\n"
     ]
    }
   ],
   "source": [
    "#  Write a Python program to print number of words in a given sentence\n",
    "s=\" Write a Python program to print set of duplicates in a list\"\n",
    "print(len(s.split()))"
   ]
  },
  {
   "cell_type": "code",
   "execution_count": 8,
   "id": "textile-turner",
   "metadata": {},
   "outputs": [
    {
     "name": "stdout",
     "output_type": "stream",
     "text": [
      "1210\n"
     ]
    }
   ],
   "source": [
    "# Write a Python program to extract digits from given string\n",
    "test_string = \"hi12th1isn0aresh\"\n",
    "res=''.join(filter(lambda i:i.isdigit(),test_string))\n",
    "print(res)"
   ]
  },
  {
   "cell_type": "code",
   "execution_count": 22,
   "id": "overhead-magnitude",
   "metadata": {},
   "outputs": [
    {
     "name": "stdout",
     "output_type": "stream",
     "text": [
      "simp\n"
     ]
    }
   ],
   "source": [
    "# Given a string as your input, delete any reoccurring character, and return the new string.\n",
    "str1=\"mississippi\"\n",
    "print(''.join(set(str1)))\n",
    "    "
   ]
  },
  {
   "cell_type": "code",
   "execution_count": null,
   "id": "respiratory-soundtrack",
   "metadata": {},
   "outputs": [],
   "source": [
    "# "
   ]
  },
  {
   "cell_type": "code",
   "execution_count": 6,
   "id": "initial-expression",
   "metadata": {},
   "outputs": [
    {
     "name": "stdout",
     "output_type": "stream",
     "text": [
      "['1', ' ', '2', ' ', '3', ' ', '4', ' ', '1', '0', ' ', '1', '1']\n",
      "1,2,3,4,10,11\n",
      "['1', ',', '2', ',', '3', ',', '4', ',', '1', '0', ',', '1', '1']\n"
     ]
    },
    {
     "data": {
      "text/plain": [
       "31"
      ]
     },
     "execution_count": 6,
     "metadata": {},
     "output_type": "execute_result"
    }
   ],
   "source": [
    "s=\"1 2 3 4 10 11\"\n",
    "k=','.join(s.split())\n",
    "\n",
    "s=[1,2,3,4,10,11]\n",
    "from functools import reduce\n",
    "reduce(lambda x,y:x+y,s)"
   ]
  },
  {
   "cell_type": "code",
   "execution_count": null,
   "id": "dress-seven",
   "metadata": {},
   "outputs": [],
   "source": []
  },
  {
   "cell_type": "code",
   "execution_count": null,
   "id": "seeing-radius",
   "metadata": {},
   "outputs": [],
   "source": []
  },
  {
   "cell_type": "code",
   "execution_count": null,
   "id": "obvious-funeral",
   "metadata": {},
   "outputs": [],
   "source": []
  },
  {
   "cell_type": "code",
   "execution_count": 2,
   "id": "adaptive-tulsa",
   "metadata": {},
   "outputs": [
    {
     "name": "stdout",
     "output_type": "stream",
     "text": [
      "500\n"
     ]
    }
   ],
   "source": [
    "# operator overloading\n",
    "\n",
    "class Book:\n",
    "    def __init__(self,pages):\n",
    "        self.pages = pages\n",
    "    def __add__(self,other):\n",
    "        return self.pages+other.pages\n",
    "b1=Book(200)\n",
    "b2=Book(300)\n",
    "c=b1+b2\n",
    "print(c)\n",
    "\n"
   ]
  },
  {
   "cell_type": "code",
   "execution_count": 11,
   "id": "female-arrow",
   "metadata": {},
   "outputs": [
    {
     "data": {
      "text/plain": [
       "2.0"
      ]
     },
     "execution_count": 11,
     "metadata": {},
     "output_type": "execute_result"
    }
   ],
   "source": [
    "def smart_div1(fun):\n",
    "    def wrapper(a,b):\n",
    "        if a < b:\n",
    "            return f\"from smart_div1 {fun(b,a)}\"\n",
    "        return fun(a,b)\n",
    "    return wrapper\n",
    "\n",
    "\n",
    "def smart_div(fun):\n",
    "    def wrapper(a,b):\n",
    "        if b == 0:\n",
    "            return f\"congrats you have accessed infinite value please use another number insted of {b} to get zero\"\n",
    "        return fun(a,b)\n",
    "    return wrapper\n",
    "\n",
    "@smart_div1\n",
    "@smart_div\n",
    "def divide(a,b):\n",
    "    return a/b\n",
    "divide(4,2)"
   ]
  },
  {
   "cell_type": "code",
   "execution_count": 15,
   "id": "agricultural-depth",
   "metadata": {},
   "outputs": [
    {
     "name": "stdout",
     "output_type": "stream",
     "text": [
      "4\n"
     ]
    },
    {
     "data": {
      "text/plain": [
       "[3, 4]"
      ]
     },
     "execution_count": 15,
     "metadata": {},
     "output_type": "execute_result"
    }
   ],
   "source": [
    "\n",
    "# bruitforce\n",
    "def find_ind(l, res):\n",
    "    for i in range(len(l)):\n",
    "        for j in range(1,len(l)):\n",
    "            if l[i]+l[j] == res:\n",
    "                return [i, j]\n",
    "\n",
    "l = [1,2,3,4,5]\n",
    "res = 9\n",
    "print(l.index(l[-1]))\n",
    "find_ind(l, res)"
   ]
  },
  {
   "cell_type": "code",
   "execution_count": null,
   "id": "collect-ability",
   "metadata": {},
   "outputs": [],
   "source": [
    "# "
   ]
  },
  {
   "cell_type": "code",
   "execution_count": 6,
   "id": "legitimate-reset",
   "metadata": {},
   "outputs": [
    {
     "name": "stdout",
     "output_type": "stream",
     "text": [
      "[3, 4]\n"
     ]
    }
   ],
   "source": [
    "# binary search\n",
    "def find_ind(l,res):\n",
    "    for i in l:\n",
    "        v = res - i\n",
    "        if v in l:\n",
    "            return [l.index(i), l.index(v)]\n",
    "\n",
    "if __name__ == '__main__':\n",
    "    l = [1,2,3,4,5]\n",
    "    res = 9\n",
    "    print(find_ind(l, res))"
   ]
  },
  {
   "cell_type": "code",
   "execution_count": 18,
   "id": "indoor-color",
   "metadata": {},
   "outputs": [
    {
     "name": "stdout",
     "output_type": "stream",
     "text": [
      "[3, 4]\n",
      "3\n",
      "[3, 4]\n",
      "4\n"
     ]
    }
   ],
   "source": [
    "# linear search\n",
    "l = [1,2,3,4,5]\n",
    "res = 9\n",
    "\n",
    "j=0\n",
    "k=-1\n",
    "for i in range(len(l)):\n",
    "    if l[j]+l[k] < res:\n",
    "        j += 1\n",
    "    elif l[j]+l[k] > res:\n",
    "        k-=1\n",
    "    elif l[j]+l[k] == res:\n",
    "        print([j,l.index(l[k])])\n",
    "        print(i)\n",
    "        "
   ]
  },
  {
   "cell_type": "code",
   "execution_count": null,
   "id": "directed-package",
   "metadata": {},
   "outputs": [],
   "source": []
  }
 ],
 "metadata": {
  "kernelspec": {
   "display_name": "Python 3",
   "language": "python",
   "name": "python3"
  },
  "language_info": {
   "codemirror_mode": {
    "name": "ipython",
    "version": 3
   },
   "file_extension": ".py",
   "mimetype": "text/x-python",
   "name": "python",
   "nbconvert_exporter": "python",
   "pygments_lexer": "ipython3",
   "version": "3.9.1"
  }
 },
 "nbformat": 4,
 "nbformat_minor": 5
}
