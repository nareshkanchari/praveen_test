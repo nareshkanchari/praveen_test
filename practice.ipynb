{
 "cells": [
  {
   "cell_type": "code",
   "execution_count": 7,
   "id": "cardiac-diary",
   "metadata": {},
   "outputs": [
    {
     "name": "stdout",
     "output_type": "stream",
     "text": [
      "0\n",
      "1\n",
      "2\n",
      "3\n",
      "4\n",
      "5\n",
      "6\n",
      "7\n",
      "8\n",
      "9\n"
     ]
    }
   ],
   "source": [
    "# decouple to provide security for inner credentials\n",
    "for i in range(10):\n",
    "    print(i)"
   ]
  },
  {
   "cell_type": "code",
   "execution_count": 2,
   "id": "substantial-watershed",
   "metadata": {},
   "outputs": [
    {
     "name": "stdout",
     "output_type": "stream",
     "text": [
      "0\n",
      "1\n",
      "2\n",
      "3\n",
      "4\n",
      "5\n",
      "6\n",
      "7\n",
      "8\n",
      "9\n"
     ]
    }
   ],
   "source": [
    "i=0\n",
    "while i<10:\n",
    "    print(i)\n",
    "    i+=1"
   ]
  },
  {
   "cell_type": "code",
   "execution_count": 3,
   "id": "color-sweet",
   "metadata": {},
   "outputs": [
    {
     "ename": "SyntaxError",
     "evalue": "invalid syntax (<ipython-input-3-9b605e8d2d80>, line 1)",
     "output_type": "error",
     "traceback": [
      "\u001b[1;36m  File \u001b[1;32m\"<ipython-input-3-9b605e8d2d80>\"\u001b[1;36m, line \u001b[1;32m1\u001b[0m\n\u001b[1;33m    n=num%5--->Buzz\u001b[0m\n\u001b[1;37m             ^\u001b[0m\n\u001b[1;31mSyntaxError\u001b[0m\u001b[1;31m:\u001b[0m invalid syntax\n"
     ]
    }
   ],
   "source": [
    "n=num%5--->Buzz\n",
    "n=num%3--->Fizz\n",
    "n%3 and n%5\n",
    "\n"
   ]
  },
  {
   "cell_type": "code",
   "execution_count": 6,
   "id": "color-statistics",
   "metadata": {},
   "outputs": [
    {
     "name": "stdout",
     "output_type": "stream",
     "text": [
      "1\n",
      "2\n",
      "Fizz\n",
      "4\n",
      "Buzz\n",
      "Fizz\n",
      "7\n",
      "8\n",
      "Fizz\n",
      "Buzz\n",
      "11\n",
      "Fizz\n",
      "13\n",
      "14\n",
      "FizzBuzz\n",
      "16\n",
      "17\n",
      "Fizz\n",
      "19\n",
      "Buzz\n",
      "Fizz\n",
      "22\n",
      "23\n",
      "Fizz\n",
      "Buzz\n",
      "26\n",
      "Fizz\n",
      "28\n",
      "29\n",
      "FizzBuzz\n",
      "31\n",
      "32\n",
      "Fizz\n",
      "34\n",
      "Buzz\n",
      "Fizz\n",
      "37\n",
      "38\n",
      "Fizz\n",
      "Buzz\n",
      "41\n",
      "Fizz\n",
      "43\n",
      "44\n",
      "FizzBuzz\n",
      "46\n",
      "47\n",
      "Fizz\n",
      "49\n",
      "Buzz\n",
      "Fizz\n",
      "52\n",
      "53\n",
      "Fizz\n",
      "Buzz\n",
      "56\n",
      "Fizz\n",
      "58\n",
      "59\n",
      "FizzBuzz\n",
      "61\n",
      "62\n",
      "Fizz\n",
      "64\n",
      "Buzz\n",
      "Fizz\n",
      "67\n",
      "68\n",
      "Fizz\n",
      "Buzz\n",
      "71\n",
      "Fizz\n",
      "73\n",
      "74\n",
      "FizzBuzz\n",
      "76\n",
      "77\n",
      "Fizz\n",
      "79\n",
      "Buzz\n",
      "Fizz\n",
      "82\n",
      "83\n",
      "Fizz\n",
      "Buzz\n",
      "86\n",
      "Fizz\n",
      "88\n",
      "89\n",
      "FizzBuzz\n",
      "91\n",
      "92\n",
      "Fizz\n",
      "94\n",
      "Buzz\n",
      "Fizz\n",
      "97\n",
      "98\n",
      "Fizz\n",
      "Buzz\n"
     ]
    }
   ],
   "source": [
    "for n in range(1,101):\n",
    "    if n % 5 == 0 and n % 3 == 0:\n",
    "        print(\"FizzBuzz\")\n",
    "    elif n % 3 == 0:\n",
    "        print(\"Fizz\")\n",
    "    elif n % 5 == 0:\n",
    "        print(\"Buzz\")\n",
    "    else:\n",
    "        print(n)"
   ]
  },
  {
   "cell_type": "code",
   "execution_count": 7,
   "id": "continuous-essex",
   "metadata": {},
   "outputs": [
    {
     "name": "stdout",
     "output_type": "stream",
     "text": [
      "0\n",
      "1\n",
      "1\n",
      "2\n",
      "3\n",
      "5\n",
      "8\n",
      "13\n",
      "21\n",
      "34\n"
     ]
    }
   ],
   "source": [
    "# fibanoci\n",
    "a, b = 0, 1\n",
    "for i in range(0, 10):\n",
    "    print(a)\n",
    "    a, b= b, a+b\n",
    "    "
   ]
  },
  {
   "cell_type": "code",
   "execution_count": 9,
   "id": "individual-ceremony",
   "metadata": {},
   "outputs": [
    {
     "name": "stdout",
     "output_type": "stream",
     "text": [
      "[1, 4, 9, 16, 25, 36, 49, 64, 81, 100]\n"
     ]
    }
   ],
   "source": [
    "# squares of each number in list\n",
    "l=[1,2,3,4,5,6,7,8,9,10]\n",
    "print(f\"{[num*num for num in l]}\")"
   ]
  },
  {
   "cell_type": "code",
   "execution_count": 15,
   "id": "latest-panama",
   "metadata": {},
   "outputs": [
    {
     "name": "stdout",
     "output_type": "stream",
     "text": [
      "0\n",
      "1\n",
      "1\n",
      "2\n",
      "3\n",
      "5\n",
      "8\n",
      "13\n",
      "21\n",
      "1: 0\n",
      "2: 1\n",
      "3: 1\n",
      "4: 2\n",
      "5: 3\n",
      "6: 5\n",
      "7: 8\n",
      "8: 13\n",
      "9: 21\n",
      "10: 34\n"
     ]
    }
   ],
   "source": [
    "# fib normal way\n",
    "a, b=0, 1\n",
    "for i in range(1,10):\n",
    "    print(a)\n",
    "    a, b = b, a+b\n",
    "\n",
    "# using generators\n",
    "def fib(num):\n",
    "    a, b = 0, 1\n",
    "    for i in range(0,num):\n",
    "        yield f\"{i+1}: {a}\"\n",
    "        a, b = b, a + b\n",
    "if __name__ == '__main__':\n",
    "    for item in fib(10):\n",
    "        print(item)\n",
    "\n"
   ]
  },
  {
   "cell_type": "code",
   "execution_count": null,
   "id": "polyphonic-request",
   "metadata": {},
   "outputs": [],
   "source": []
  },
  {
   "cell_type": "code",
   "execution_count": 16,
   "id": "empirical-cabin",
   "metadata": {},
   "outputs": [
    {
     "name": "stdout",
     "output_type": "stream",
     "text": [
      "1: 0\n",
      "2: 1\n",
      "3: 1\n",
      "4: 2\n",
      "5: 3\n",
      "6: 5\n",
      "7: 8\n",
      "8: 13\n",
      "9: 21\n",
      "10: 34\n"
     ]
    }
   ],
   "source": [
    "\n",
    "def fib(num):\n",
    "    a, b = 0, 1\n",
    "    for i in range(0, num):\n",
    "        yield f\"{i+1}: {a}\"\n",
    "        a, b= b, a + b\n",
    "\n",
    "if __name__ == '__main__':\n",
    "    for item in fib(10):\n",
    "        print(item)"
   ]
  },
  {
   "cell_type": "code",
   "execution_count": 4,
   "id": "dietary-longer",
   "metadata": {},
   "outputs": [
    {
     "ename": "ValueError",
     "evalue": "too many values to unpack (expected 2)",
     "output_type": "error",
     "traceback": [
      "\u001b[1;31m---------------------------------------------------------------------------\u001b[0m",
      "\u001b[1;31mValueError\u001b[0m                                Traceback (most recent call last)",
      "\u001b[1;32m<ipython-input-4-07d969c58d3f>\u001b[0m in \u001b[0;36m<module>\u001b[1;34m\u001b[0m\n\u001b[0;32m      4\u001b[0m \u001b[0mx\u001b[0m\u001b[1;33m\u001b[0m\u001b[1;33m\u001b[0m\u001b[0m\n\u001b[0;32m      5\u001b[0m \u001b[0md\u001b[0m\u001b[1;33m=\u001b[0m\u001b[0mdict\u001b[0m\u001b[1;33m(\u001b[0m\u001b[1;33m)\u001b[0m\u001b[1;33m\u001b[0m\u001b[1;33m\u001b[0m\u001b[0m\n\u001b[1;32m----> 6\u001b[1;33m \u001b[1;32mfor\u001b[0m \u001b[0mi\u001b[0m\u001b[1;33m,\u001b[0m\u001b[0mj\u001b[0m \u001b[1;32min\u001b[0m \u001b[0ma\u001b[0m\u001b[1;33m,\u001b[0m\u001b[0mb\u001b[0m\u001b[1;33m:\u001b[0m\u001b[1;33m\u001b[0m\u001b[1;33m\u001b[0m\u001b[0m\n\u001b[0m\u001b[0;32m      7\u001b[0m     \u001b[0md\u001b[0m\u001b[1;33m[\u001b[0m\u001b[0mi\u001b[0m\u001b[1;33m]\u001b[0m\u001b[1;33m=\u001b[0m\u001b[0mj\u001b[0m\u001b[1;33m\u001b[0m\u001b[1;33m\u001b[0m\u001b[0m\n",
      "\u001b[1;31mValueError\u001b[0m: too many values to unpack (expected 2)"
     ]
    }
   ],
   "source": [
    "a=['a','b','c','d','e','f','g','h','i']\n",
    "b=[1,2,3,4,5,6,7,8,9]\n",
    "x=dict(zip(a,b))\n",
    "x"
   ]
  },
  {
   "cell_type": "code",
   "execution_count": 4,
   "id": "charitable-nursery",
   "metadata": {
    "scrolled": true
   },
   "outputs": [
    {
     "data": {
      "text/plain": [
       "['__class__',\n",
       " '__delattr__',\n",
       " '__dir__',\n",
       " '__doc__',\n",
       " '__eq__',\n",
       " '__format__',\n",
       " '__ge__',\n",
       " '__getattribute__',\n",
       " '__gt__',\n",
       " '__hash__',\n",
       " '__init__',\n",
       " '__init_subclass__',\n",
       " '__iter__',\n",
       " '__le__',\n",
       " '__lt__',\n",
       " '__ne__',\n",
       " '__new__',\n",
       " '__next__',\n",
       " '__reduce__',\n",
       " '__reduce_ex__',\n",
       " '__repr__',\n",
       " '__setattr__',\n",
       " '__sizeof__',\n",
       " '__str__',\n",
       " '__subclasshook__']"
      ]
     },
     "execution_count": 4,
     "metadata": {},
     "output_type": "execute_result"
    }
   ],
   "source": [
    "dir(zip)"
   ]
  },
  {
   "cell_type": "code",
   "execution_count": 4,
   "id": "proud-reaction",
   "metadata": {},
   "outputs": [
    {
     "name": "stdout",
     "output_type": "stream",
     "text": [
      "general way: 1\n",
      "using ternary: 1\n"
     ]
    }
   ],
   "source": [
    "# ternary operator\n",
    "# general\n",
    "\n",
    "condition = True\n",
    "\n",
    "if condition:\n",
    "    x = 1\n",
    "else:\n",
    "    x=0\n",
    "print(f\"general way: {x}\")\n",
    "\n",
    "# using ternary\n",
    "\n",
    "condition = True\n",
    "\n",
    "x = 1 if condition else 0\n",
    "\n",
    "print(f\"using ternary: {x}\")\n",
    "\n"
   ]
  },
  {
   "cell_type": "code",
   "execution_count": 9,
   "id": "organizational-immigration",
   "metadata": {},
   "outputs": [
    {
     "name": "stdout",
     "output_type": "stream",
     "text": [
      "[1, 2, 3, 4]\n"
     ]
    }
   ],
   "source": [
    "# \"with\" keyword we call a context manager\n",
    "\n",
    "# pickling\n",
    "import pickle\n",
    "\n",
    "mylist = [1,2,3,4]\n",
    "with open('datafile.txt', 'wb') as f:\n",
    "    pickle.dump(mylist, f)\n",
    "\n",
    "# unpickling\n",
    "\n",
    "with open('datafile.txt', 'rb') as f:\n",
    "    emp = pickle.load(f)\n",
    "print(emp)\n",
    "\n"
   ]
  },
  {
   "cell_type": "code",
   "execution_count": null,
   "id": "tight-coupon",
   "metadata": {},
   "outputs": [],
   "source": [
    "orm:(object relation mapping)\n",
    "    orm is a technique for creating,retriving,updating and deleting by \n",
    "    using ooprogrming in rdbms\n",
    "    "
   ]
  },
  {
   "cell_type": "code",
   "execution_count": 5,
   "id": "determined-language",
   "metadata": {},
   "outputs": [
    {
     "name": "stdout",
     "output_type": "stream",
     "text": [
      "1\n",
      "2\n",
      "3\n"
     ]
    }
   ],
   "source": [
    "def my_dec(func):\n",
    "    def wrapper():\n",
    "        print(\"1\")\n",
    "        func()\n",
    "        print(\"3\")\n",
    "    return wrapper\n",
    "@my_dec\n",
    "def say():\n",
    "    print(\"2\")\n",
    "say()"
   ]
  },
  {
   "cell_type": "code",
   "execution_count": 2,
   "id": "characteristic-cause",
   "metadata": {},
   "outputs": [
    {
     "name": "stdout",
     "output_type": "stream",
     "text": [
      "0\n",
      "1\n",
      "1\n",
      "2\n",
      "3\n",
      "5\n",
      "8\n",
      "13\n",
      "21\n",
      "34\n"
     ]
    }
   ],
   "source": [
    "# fibanoci\n",
    "\n",
    "a, b = 0, 1\n",
    "for i in range(10):\n",
    "    print(a)\n",
    "    a, b = a+b, a\n",
    "    \n",
    "# "
   ]
  },
  {
   "cell_type": "code",
   "execution_count": 1,
   "id": "considerable-threshold",
   "metadata": {},
   "outputs": [
    {
     "data": {
      "text/plain": [
       "1"
      ]
     },
     "execution_count": 1,
     "metadata": {},
     "output_type": "execute_result"
    }
   ],
   "source": [
    "# factorial\n",
    "def fact(n):\n",
    "    if n == 0:\n",
    "        return 1\n",
    "    else:\n",
    "        return n*fact(n-1)\n",
    "fact(1)\n"
   ]
  },
  {
   "cell_type": "code",
   "execution_count": 3,
   "id": "ultimate-charm",
   "metadata": {},
   "outputs": [
    {
     "name": "stdout",
     "output_type": "stream",
     "text": [
      "0\n",
      "1\n",
      "1\n",
      "2\n",
      "3\n",
      "5\n",
      "8\n",
      "13\n",
      "21\n",
      "34\n"
     ]
    }
   ],
   "source": [
    "# using gnerators\n",
    "\n",
    "def fib(n):\n",
    "    a, b = 0, 1\n",
    "    for i in range(n):\n",
    "        yield a\n",
    "        a, b = a+b, a\n",
    "    \n",
    "if __name__ == \"__main__\":\n",
    "    for i in fib(10):\n",
    "        print(i)"
   ]
  },
  {
   "cell_type": "code",
   "execution_count": 2,
   "id": "maritime-gamma",
   "metadata": {},
   "outputs": [
    {
     "name": "stdout",
     "output_type": "stream",
     "text": [
      "{1, 4, 5}\n"
     ]
    }
   ],
   "source": [
    "# print duplicate numbers\n",
    "l = [1,2,3,4,5,4,5,6,1]\n",
    "print(set([x for x in l if l.count(x) > 1]))"
   ]
  },
  {
   "cell_type": "code",
   "execution_count": 3,
   "id": "sufficient-broadcast",
   "metadata": {},
   "outputs": [
    {
     "name": "stdout",
     "output_type": "stream",
     "text": [
      "[1, 2]\n"
     ]
    }
   ],
   "source": [
    "l=[1,2,3]\n",
    "k=5\n",
    "for i in range(len(l)):\n",
    "    for j in range(i+1,len(l)):\n",
    "        if l[i]+l[j] == k:\n",
    "            print([i,j])"
   ]
  },
  {
   "cell_type": "code",
   "execution_count": 9,
   "id": "useful-receipt",
   "metadata": {},
   "outputs": [
    {
     "name": "stdout",
     "output_type": "stream",
     "text": [
      "[2, 3]\n"
     ]
    }
   ],
   "source": [
    "l=[1,2,3,7]\n",
    "k=10\n",
    "min=l[0]\n",
    "for i in range(1,len(l)):\n",
    "    if l[i]+min == k:\n",
    "        print([l.index(min),i])\n",
    "    else:\n",
    "        min = l[i]"
   ]
  },
  {
   "cell_type": "code",
   "execution_count": 31,
   "id": "nervous-tumor",
   "metadata": {},
   "outputs": [
    {
     "data": {
      "text/plain": [
       "[1]"
      ]
     },
     "execution_count": 31,
     "metadata": {},
     "output_type": "execute_result"
    }
   ],
   "source": [
    "l = [4,5,1,2,3]\n",
    "k = 9\n",
    "min = l[0]\n",
    "[i for i in range(len(l)) if l[i]+min == k]"
   ]
  },
  {
   "cell_type": "code",
   "execution_count": 8,
   "id": "loved-force",
   "metadata": {},
   "outputs": [
    {
     "name": "stdout",
     "output_type": "stream",
     "text": [
      "((1, 'John (test)', '878546456', 'john@gmail.com', datetime.datetime(2020, 10, 4, 12, 48, 34, 263538), None, '2014-06-23_15.52.54.jpg'),)\n"
     ]
    }
   ],
   "source": [
    "# connecting to database\n",
    "import pymysql\n",
    "connection = pymysql.connect(host='localhost',user='root',password='root',db='crmdb')\n",
    "cursor = connection.cursor()\n",
    "cursor.execute('select * from accounts_customer')\n",
    "print(cursor.fetchmany(0))"
   ]
  },
  {
   "cell_type": "code",
   "execution_count": 50,
   "id": "owned-recipe",
   "metadata": {},
   "outputs": [
    {
     "name": "stdout",
     "output_type": "stream",
     "text": [
      "3628800\n",
      "145\n",
      "145 is strong number\n"
     ]
    }
   ],
   "source": [
    "# practice factorial with recursion\n",
    "def fact(num):\n",
    "    if num == 0:\n",
    "        return 1\n",
    "    return num*fact(num-1)\n",
    "\n",
    "if __name__ == '__main__':\n",
    "    print(fact(10))\n",
    "    \n",
    "# strong number\n",
    "# which is sum of each number factorial is equal to original number\n",
    "\n",
    "import math\n",
    "\n",
    "def fact(num):\n",
    "    f_num = 0\n",
    "    if num == 0:\n",
    "        return 1\n",
    "    for i in str(num):\n",
    "        f_num = f_num + math.factorial(int(i))\n",
    "    \n",
    "    print(num)\n",
    "        \n",
    "        \n",
    "    return f\"{num} is strong number\" if f_num == num else f\"{ num } is not strong number\"\n",
    "\n",
    "if __name__ == '__main__':\n",
    "    print(fact(145))\n",
    "        \n",
    "    "
   ]
  },
  {
   "cell_type": "code",
   "execution_count": 40,
   "id": "preliminary-diary",
   "metadata": {},
   "outputs": [
    {
     "data": {
      "text/plain": [
       "6"
      ]
     },
     "execution_count": 40,
     "metadata": {},
     "output_type": "execute_result"
    }
   ],
   "source": [
    "import math\n",
    "math.factorial(3)"
   ]
  },
  {
   "cell_type": "code",
   "execution_count": 25,
   "id": "caroline-bryan",
   "metadata": {},
   "outputs": [
    {
     "data": {
      "text/plain": [
       "5"
      ]
     },
     "execution_count": 25,
     "metadata": {},
     "output_type": "execute_result"
    }
   ],
   "source": [
    "145%10"
   ]
  },
  {
   "cell_type": "code",
   "execution_count": 27,
   "id": "civil-adjustment",
   "metadata": {},
   "outputs": [
    {
     "data": {
      "text/plain": [
       "4"
      ]
     },
     "execution_count": 27,
     "metadata": {},
     "output_type": "execute_result"
    }
   ],
   "source": [
    "14%10"
   ]
  },
  {
   "cell_type": "code",
   "execution_count": 28,
   "id": "favorite-delicious",
   "metadata": {},
   "outputs": [
    {
     "data": {
      "text/plain": [
       "1"
      ]
     },
     "execution_count": 28,
     "metadata": {},
     "output_type": "execute_result"
    }
   ],
   "source": [
    "1%10"
   ]
  },
  {
   "cell_type": "code",
   "execution_count": 51,
   "id": "transparent-variance",
   "metadata": {},
   "outputs": [
    {
     "data": {
      "text/plain": [
       "4"
      ]
     },
     "execution_count": 51,
     "metadata": {},
     "output_type": "execute_result"
    }
   ],
   "source": [
    "s = lambda x: x+2\n",
    "s(2)"
   ]
  },
  {
   "cell_type": "code",
   "execution_count": 52,
   "id": "egyptian-sound",
   "metadata": {},
   "outputs": [],
   "source": [
    "l=[1,2,3,4,5,6]"
   ]
  },
  {
   "cell_type": "code",
   "execution_count": 53,
   "id": "blond-survival",
   "metadata": {},
   "outputs": [
    {
     "name": "stdout",
     "output_type": "stream",
     "text": [
      "[1, 4, 9, 16, 25, 36]\n"
     ]
    }
   ],
   "source": [
    "# map function\n",
    "print(list(map(lambda x:x**2,l)))"
   ]
  },
  {
   "cell_type": "code",
   "execution_count": 55,
   "id": "thick-dietary",
   "metadata": {},
   "outputs": [
    {
     "name": "stdout",
     "output_type": "stream",
     "text": [
      "[2, 4, 6]\n"
     ]
    }
   ],
   "source": [
    "# filter function\n",
    "print(list(filter(lambda x:x%2 == 0, l)))"
   ]
  },
  {
   "cell_type": "code",
   "execution_count": 57,
   "id": "diagnostic-prison",
   "metadata": {},
   "outputs": [
    {
     "name": "stdout",
     "output_type": "stream",
     "text": [
      "21\n"
     ]
    }
   ],
   "source": [
    "# reduct function\n",
    "from functools import reduce\n",
    "print(reduce(lambda x,y:x+y, l))"
   ]
  },
  {
   "cell_type": "code",
   "execution_count": null,
   "id": "iraqi-region",
   "metadata": {},
   "outputs": [],
   "source": []
  }
 ],
 "metadata": {
  "kernelspec": {
   "display_name": "Python 3",
   "language": "python",
   "name": "python3"
  },
  "language_info": {
   "codemirror_mode": {
    "name": "ipython",
    "version": 3
   },
   "file_extension": ".py",
   "mimetype": "text/x-python",
   "name": "python",
   "nbconvert_exporter": "python",
   "pygments_lexer": "ipython3",
   "version": "3.9.1"
  }
 },
 "nbformat": 4,
 "nbformat_minor": 5
}
